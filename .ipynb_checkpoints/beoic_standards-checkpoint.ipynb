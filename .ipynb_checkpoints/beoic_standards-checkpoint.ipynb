{
 "cells": [
  {
   "cell_type": "markdown",
   "metadata": {},
   "source": [
    "### BEOIC analysis of the isotope standards"
   ]
  },
  {
   "cell_type": "code",
   "execution_count": 1,
   "metadata": {},
   "outputs": [
    {
     "data": {
      "text/plain": [
       "<contextlib.ExitStack at 0x75c15e007890>"
      ]
     },
     "execution_count": 1,
     "metadata": {},
     "output_type": "execute_result"
    }
   ],
   "source": [
    "%matplotlib notebook\n",
    "import pandas as pd\n",
    "import numpy as np\n",
    "import matplotlib\n",
    "import matplotlib.pyplot as plt\n",
    "import seaborn as sns\n",
    "from datetime import datetime\n",
    "from scipy.stats import norm\n",
    "# matplotlib.use('TkAgg')  # Tkinter GUI, usually works on Wayland\n",
    "import tabulate\n",
    "plt.ion()\n",
    "\n"
   ]
  },
  {
   "cell_type": "code",
   "execution_count": 2,
   "metadata": {},
   "outputs": [
    {
     "name": "stdout",
     "output_type": "stream",
     "text": [
      "dict_keys(['UIB', 'AWI_LDC', 'VENICE_DC', 'LSCE_VSAEL'])\n",
      "Standard: AWI_LDC\n",
      "┌───────┬─────────────┬─────────────┐\n",
      "│       │     d18_cal │      dD_cal │\n",
      "├───────┼─────────────┼─────────────┤\n",
      "│ count │ 392         │  392        │\n",
      "├───────┼─────────────┼─────────────┤\n",
      "│ mean  │ -49.0571    │ -383.751    │\n",
      "├───────┼─────────────┼─────────────┤\n",
      "│ std   │   0.0644845 │    0.224219 │\n",
      "├───────┼─────────────┼─────────────┤\n",
      "│ min   │ -49.2812    │ -384.351    │\n",
      "├───────┼─────────────┼─────────────┤\n",
      "│ 50%   │ -49.0576    │ -383.72     │\n",
      "├───────┼─────────────┼─────────────┤\n",
      "│ 95%   │ -48.9538    │ -383.447    │\n",
      "├───────┼─────────────┼─────────────┤\n",
      "│ max   │ -48.882     │ -383.185    │\n",
      "└───────┴─────────────┴─────────────┘\n",
      "Standard: LSCE_VSAEL\n",
      "┌───────┬───────────┬─────────────┐\n",
      "│       │   d18_cal │      dD_cal │\n",
      "├───────┼───────────┼─────────────┤\n",
      "│ count │  72       │   72        │\n",
      "├───────┼───────────┼─────────────┤\n",
      "│ mean  │ -61.1583  │ -476.775    │\n",
      "├───────┼───────────┼─────────────┤\n",
      "│ std   │   0.07093 │    0.231287 │\n",
      "├───────┼───────────┼─────────────┤\n",
      "│ min   │ -61.3306  │ -477.293    │\n",
      "├───────┼───────────┼─────────────┤\n",
      "│ 50%   │ -61.1479  │ -476.75     │\n",
      "├───────┼───────────┼─────────────┤\n",
      "│ 95%   │ -61.0592  │ -476.423    │\n",
      "├───────┼───────────┼─────────────┤\n",
      "│ max   │ -60.9983  │ -476.339    │\n",
      "└───────┴───────────┴─────────────┘\n",
      "Standard: UIB\n",
      "┌───────┬─────────────┬────────────┐\n",
      "│       │     d18_cal │     dD_cal │\n",
      "├───────┼─────────────┼────────────┤\n",
      "│ count │ 312         │  312       │\n",
      "├───────┼─────────────┼────────────┤\n",
      "│ mean  │ -41.8908    │ -323.447   │\n",
      "├───────┼─────────────┼────────────┤\n",
      "│ std   │   0.0668518 │    0.33249 │\n",
      "├───────┼─────────────┼────────────┤\n",
      "│ min   │ -42.0836    │ -324.245   │\n",
      "├───────┼─────────────┼────────────┤\n",
      "│ 50%   │ -41.8919    │ -323.341   │\n",
      "├───────┼─────────────┼────────────┤\n",
      "│ 95%   │ -41.7833    │ -323.028   │\n",
      "├───────┼─────────────┼────────────┤\n",
      "│ max   │ -41.7362    │ -322.896   │\n",
      "└───────┴─────────────┴────────────┘\n",
      "Standard: VENICE_DC\n",
      "┌───────┬─────────────┬─────────────┐\n",
      "│       │     d18_cal │      dD_cal │\n",
      "├───────┼─────────────┼─────────────┤\n",
      "│ count │ 312         │  312        │\n",
      "├───────┼─────────────┼─────────────┤\n",
      "│ mean  │ -52.5062    │ -408.674    │\n",
      "├───────┼─────────────┼─────────────┤\n",
      "│ std   │   0.0682632 │    0.191378 │\n",
      "├───────┼─────────────┼─────────────┤\n",
      "│ min   │ -52.6774    │ -409.137    │\n",
      "├───────┼─────────────┼─────────────┤\n",
      "│ 50%   │ -52.5044    │ -408.657    │\n",
      "├───────┼─────────────┼─────────────┤\n",
      "│ 95%   │ -52.3879    │ -408.371    │\n",
      "├───────┼─────────────┼─────────────┤\n",
      "│ max   │ -52.3237    │ -408.241    │\n",
      "└───────┴─────────────┴─────────────┘\n",
      "┌──────────┬───────────┬──────────────┬──────────┬─────────────┐\n",
      "│          │   AWI_LDC │   LSCE_VSAEL │      UIB │   VENICE_DC │\n",
      "├──────────┼───────────┼──────────────┼──────────┼─────────────┤\n",
      "│ d18_nom  │   -49.150 │      -61.050 │  -41.830 │     -52.400 │\n",
      "├──────────┼───────────┼──────────────┼──────────┼─────────────┤\n",
      "│ dD_nom   │  -383.670 │     -475.040 │ -322.290 │    -407.130 │\n",
      "├──────────┼───────────┼──────────────┼──────────┼─────────────┤\n",
      "│ d18_cph  │   -49.057 │      -61.158 │  -41.891 │     -52.506 │\n",
      "├──────────┼───────────┼──────────────┼──────────┼─────────────┤\n",
      "│ dD_cph   │  -383.751 │     -476.775 │ -323.447 │    -408.674 │\n",
      "├──────────┼───────────┼──────────────┼──────────┼─────────────┤\n",
      "│ diff_dD  │    -0.081 │       -1.735 │   -1.157 │      -1.544 │\n",
      "├──────────┼───────────┼──────────────┼──────────┼─────────────┤\n",
      "│ diff_d18 │     0.093 │       -0.108 │   -0.061 │      -0.106 │\n",
      "└──────────┴───────────┴──────────────┴──────────┴─────────────┘\n",
      "{'AWI_LDC': {'d18_nom': -49.15, 'dD_nom': -383.67, 'd18_cph': -49.057051175255104, 'dD_cph': -383.75069548596946, 'diff_dD': -0.08069548596944287, 'diff_d18': 0.09294882474489441}, 'LSCE_VSAEL': {'d18_nom': -61.05, 'dD_nom': -475.04, 'd18_cph': -61.15827915972222, 'dD_cph': -476.7745472125, 'diff_dD': -1.73454721249999, 'diff_d18': -0.10827915972222257}, 'UIB': {'d18_nom': -41.83, 'dD_nom': -322.29, 'd18_cph': -41.89078816570513, 'dD_cph': -323.4469305019231, 'diff_dD': -1.156930501923057, 'diff_d18': -0.06078816570513368}, 'VENICE_DC': {'d18_nom': -52.4, 'dD_nom': -407.13, 'd18_cph': -52.506172479487184, 'dD_cph': -408.6743415179487, 'diff_dD': -1.5443415179486806, 'diff_d18': -0.106172479487185}}\n"
     ]
    }
   ],
   "source": [
    "filepath=\"./summary_BEOIC_stds.xlsx\"\n",
    "df_beoic=pd.read_excel(filepath, sheet_name=None, header=0)\n",
    "\n",
    "stds_summary={\n",
    "    'AWI_LDC': {'d18_nom': -49.15, 'dD_nom': -383.67},\n",
    "    'LSCE_VSAEL': {'d18_nom': -61.05, 'dD_nom': -475.04},\n",
    "    'UIB': {'d18_nom': -41.83, 'dD_nom': -322.29},\n",
    "    'VENICE_DC': {'d18_nom': -52.4, 'dD_nom': -407.13}}\n",
    "\n",
    "print(df_beoic.keys())\n",
    "\n",
    "for k in sorted(df_beoic.keys()):\n",
    "    print(f\"Standard: {k}\")\n",
    "    df_select=df_beoic[k][['d18_cal', 'dD_cal']]\n",
    "\n",
    "    print(tabulate.tabulate(df_select.describe(percentiles=[0.95]), headers=\"keys\", tablefmt=\"simple_grid\"))\n",
    "    stds_summary[k][\"d18_cph\"]=df_select['d18_cal'].mean()\n",
    "    stds_summary[k][\"dD_cph\"]=df_select['dD_cal'].mean()\n",
    "    stds_summary[k][\"diff_dD\"] = stds_summary[k][\"dD_cph\"]-stds_summary[k][\"dD_nom\"]\n",
    "    stds_summary[k][\"diff_d18\"] = stds_summary[k][\"d18_cph\"]-stds_summary[k][\"d18_nom\"]\n",
    "\n",
    "\n",
    "\n",
    "print(tabulate.tabulate(pd.DataFrame(stds_summary), headers='keys', tablefmt='simple_grid', floatfmt=\"0.3f\"))\n",
    "print(stds_summary)"
   ]
  },
  {
   "cell_type": "code",
   "execution_count": 3,
   "metadata": {},
   "outputs": [
    {
     "data": {
      "image/png": "[encoded data removed]",
      "text/plain": [
       "<Figure size 640x480 with 1 Axes>"
      ]
     },
     "metadata": {},
     "output_type": "display_data"
    }
   ],
   "source": [
    "%matplotlib widget\n",
    "plt.close(\"all\")\n",
    "# [v[\"dD_nom\"] for v in stds_summary.values()]\n",
    "x=[stds_summary[k][\"dD_nom\"] for k in stds_summary.keys()]\n",
    "y=[stds_summary[k][\"diff_dD\"] for k in stds_summary.keys()]\n",
    "x2=[8*stds_summary[k][\"d18_nom\"] for k in stds_summary.keys()]\n",
    "y2=[8*stds_summary[k][\"diff_d18\"] for k in stds_summary.keys()]\n",
    "[k for k in stds_summary.keys()]\n",
    "plt.plot(x, y, \"o\")\n",
    "# plt.plot(x2, y2, \"o\", color = \"b\")\n",
    "plt.show()"
   ]
  },
  {
   "cell_type": "code",
   "execution_count": null,
   "metadata": {},
   "outputs": [],
   "source": []
  }
 ],
 "metadata": {
  "kernelspec": {
   "display_name": "Python 3 (ipykernel)",
   "language": "python",
   "name": "python3"
  },
  "language_info": {
   "codemirror_mode": {
    "name": "ipython",
    "version": 3
   },
   "file_extension": ".py",
   "mimetype": "text/x-python",
   "name": "python",
   "nbconvert_exporter": "python",
   "pygments_lexer": "ipython3",
   "version": "3.12.2"
  }
 },
 "nbformat": 4,
 "nbformat_minor": 4
}
