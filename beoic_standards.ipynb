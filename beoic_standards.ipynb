{
 "cells": [
  {
   "cell_type": "markdown",
   "metadata": {},
   "source": [
    "### BEOIC analysis of the isotope standards"
   ]
  },
  {
   "cell_type": "code",
   "execution_count": 105,
   "metadata": {},
   "outputs": [
    {
     "data": {
      "text/plain": [
       "<contextlib.ExitStack at 0x76567812a720>"
      ]
     },
     "execution_count": 105,
     "metadata": {},
     "output_type": "execute_result"
    }
   ],
   "source": [
    "%matplotlib notebook\n",
    "import pandas as pd\n",
    "import numpy as np\n",
    "import matplotlib\n",
    "import matplotlib.pyplot as plt\n",
    "import seaborn as sns\n",
    "from datetime import datetime\n",
    "from scipy.stats import norm\n",
    "# matplotlib.use('TkAgg')  # Tkinter GUI, usually works on Wayland\n",
    "import tabulate\n",
    "plt.ion()\n",
    "\n"
   ]
  },
  {
   "cell_type": "code",
   "execution_count": 106,
   "metadata": {},
   "outputs": [
    {
     "name": "stdout",
     "output_type": "stream",
     "text": [
      "dict_keys(['UIB', 'AWI_LDC', 'VENICE_DC', 'LSCE_VSAEL'])\n",
      "Standard: AWI_LDC\n",
      "┌───────┬─────────────┬─────────────┐\n",
      "│       │     d18_cal │      dD_cal │\n",
      "├───────┼─────────────┼─────────────┤\n",
      "│ count │ 392         │  392        │\n",
      "├───────┼─────────────┼─────────────┤\n",
      "│ mean  │ -49.0571    │ -383.751    │\n",
      "├───────┼─────────────┼─────────────┤\n",
      "│ std   │   0.0644845 │    0.224219 │\n",
      "├───────┼─────────────┼─────────────┤\n",
      "│ min   │ -49.2812    │ -384.351    │\n",
      "├───────┼─────────────┼─────────────┤\n",
      "│ 50%   │ -49.0576    │ -383.72     │\n",
      "├───────┼─────────────┼─────────────┤\n",
      "│ 95%   │ -48.9538    │ -383.447    │\n",
      "├───────┼─────────────┼─────────────┤\n",
      "│ max   │ -48.882     │ -383.185    │\n",
      "└───────┴─────────────┴─────────────┘\n",
      "Standard: LSCE_VSAEL\n",
      "┌───────┬───────────┬─────────────┐\n",
      "│       │   d18_cal │      dD_cal │\n",
      "├───────┼───────────┼─────────────┤\n",
      "│ count │  72       │   72        │\n",
      "├───────┼───────────┼─────────────┤\n",
      "│ mean  │ -61.1583  │ -476.775    │\n",
      "├───────┼───────────┼─────────────┤\n",
      "│ std   │   0.07093 │    0.231287 │\n",
      "├───────┼───────────┼─────────────┤\n",
      "│ min   │ -61.3306  │ -477.293    │\n",
      "├───────┼───────────┼─────────────┤\n",
      "│ 50%   │ -61.1479  │ -476.75     │\n",
      "├───────┼───────────┼─────────────┤\n",
      "│ 95%   │ -61.0592  │ -476.423    │\n",
      "├───────┼───────────┼─────────────┤\n",
      "│ max   │ -60.9983  │ -476.339    │\n",
      "└───────┴───────────┴─────────────┘\n",
      "Standard: UIB\n",
      "┌───────┬─────────────┬────────────┐\n",
      "│       │     d18_cal │     dD_cal │\n",
      "├───────┼─────────────┼────────────┤\n",
      "│ count │ 312         │  312       │\n",
      "├───────┼─────────────┼────────────┤\n",
      "│ mean  │ -41.8908    │ -323.447   │\n",
      "├───────┼─────────────┼────────────┤\n",
      "│ std   │   0.0668518 │    0.33249 │\n",
      "├───────┼─────────────┼────────────┤\n",
      "│ min   │ -42.0836    │ -324.245   │\n",
      "├───────┼─────────────┼────────────┤\n",
      "│ 50%   │ -41.8919    │ -323.341   │\n",
      "├───────┼─────────────┼────────────┤\n",
      "│ 95%   │ -41.7833    │ -323.028   │\n",
      "├───────┼─────────────┼────────────┤\n",
      "│ max   │ -41.7362    │ -322.896   │\n",
      "└───────┴─────────────┴────────────┘\n",
      "Standard: VENICE_DC\n",
      "┌───────┬─────────────┬─────────────┐\n",
      "│       │     d18_cal │      dD_cal │\n",
      "├───────┼─────────────┼─────────────┤\n",
      "│ count │ 312         │  312        │\n",
      "├───────┼─────────────┼─────────────┤\n",
      "│ mean  │ -52.5062    │ -408.674    │\n",
      "├───────┼─────────────┼─────────────┤\n",
      "│ std   │   0.0682632 │    0.191378 │\n",
      "├───────┼─────────────┼─────────────┤\n",
      "│ min   │ -52.6774    │ -409.137    │\n",
      "├───────┼─────────────┼─────────────┤\n",
      "│ 50%   │ -52.5044    │ -408.657    │\n",
      "├───────┼─────────────┼─────────────┤\n",
      "│ 95%   │ -52.3879    │ -408.371    │\n",
      "├───────┼─────────────┼─────────────┤\n",
      "│ max   │ -52.3237    │ -408.241    │\n",
      "└───────┴─────────────┴─────────────┘\n",
      "┌──────────┬───────────┬──────────────┬──────────┬─────────────┐\n",
      "│          │   AWI_LDC │   LSCE_VSAEL │      UIB │   VENICE_DC │\n",
      "├──────────┼───────────┼──────────────┼──────────┼─────────────┤\n",
      "│ d18_nom  │   -49.150 │      -61.050 │  -41.830 │     -52.400 │\n",
      "├──────────┼───────────┼──────────────┼──────────┼─────────────┤\n",
      "│ dD_nom   │  -383.670 │     -475.040 │ -322.290 │    -407.130 │\n",
      "├──────────┼───────────┼──────────────┼──────────┼─────────────┤\n",
      "│ d18_cph  │   -49.057 │      -61.158 │  -41.891 │     -52.506 │\n",
      "├──────────┼───────────┼──────────────┼──────────┼─────────────┤\n",
      "│ dD_cph   │  -383.751 │     -476.775 │ -323.447 │    -408.674 │\n",
      "├──────────┼───────────┼──────────────┼──────────┼─────────────┤\n",
      "│ diff_dD  │    -0.081 │       -1.735 │   -1.157 │      -1.544 │\n",
      "├──────────┼───────────┼──────────────┼──────────┼─────────────┤\n",
      "│ diff_d18 │     0.093 │       -0.108 │   -0.061 │      -0.106 │\n",
      "└──────────┴───────────┴──────────────┴──────────┴─────────────┘\n",
      "{'AWI_LDC': {'d18_nom': -49.15, 'dD_nom': -383.67, 'd18_cph': -49.057051175255104, 'dD_cph': -383.75069548596946, 'diff_dD': -0.08069548596944287, 'diff_d18': 0.09294882474489441}, 'LSCE_VSAEL': {'d18_nom': -61.05, 'dD_nom': -475.04, 'd18_cph': -61.15827915972222, 'dD_cph': -476.7745472125, 'diff_dD': -1.73454721249999, 'diff_d18': -0.10827915972222257}, 'UIB': {'d18_nom': -41.83, 'dD_nom': -322.29, 'd18_cph': -41.89078816570513, 'dD_cph': -323.4469305019231, 'diff_dD': -1.156930501923057, 'diff_d18': -0.06078816570513368}, 'VENICE_DC': {'d18_nom': -52.4, 'dD_nom': -407.13, 'd18_cph': -52.506172479487184, 'dD_cph': -408.6743415179487, 'diff_dD': -1.5443415179486806, 'diff_d18': -0.106172479487185}}\n"
     ]
    }
   ],
   "source": [
    "filepath=\"./summary_BEOIC_stds.xlsx\"\n",
    "df_beoic=pd.read_excel(filepath, sheet_name=None, header=0)\n",
    "\n",
    "stds_summary={\n",
    "    'AWI_LDC': {'d18_nom': -49.15, 'dD_nom': -383.67},\n",
    "    'LSCE_VSAEL': {'d18_nom': -61.05, 'dD_nom': -475.04},\n",
    "    'UIB': {'d18_nom': -41.83, 'dD_nom': -322.29},\n",
    "    'VENICE_DC': {'d18_nom': -52.4, 'dD_nom': -407.13}}\n",
    "\n",
    "print(df_beoic.keys())\n",
    "\n",
    "for k in sorted(df_beoic.keys()):\n",
    "    print(f\"Standard: {k}\")\n",
    "    df_select=df_beoic[k][['d18_cal', 'dD_cal']]\n",
    "\n",
    "    print(tabulate.tabulate(df_select.describe(percentiles=[0.95]), headers=\"keys\", tablefmt=\"simple_grid\"))\n",
    "    stds_summary[k][\"d18_cph\"]=df_select['d18_cal'].mean()\n",
    "    stds_summary[k][\"dD_cph\"]=df_select['dD_cal'].mean()\n",
    "    stds_summary[k][\"diff_dD\"] = stds_summary[k][\"dD_cph\"]-stds_summary[k][\"dD_nom\"]\n",
    "    stds_summary[k][\"diff_d18\"] = stds_summary[k][\"d18_cph\"]-stds_summary[k][\"d18_nom\"]\n",
    "\n",
    "\n",
    "\n",
    "print(tabulate.tabulate(pd.DataFrame(stds_summary), headers='keys', tablefmt='simple_grid', floatfmt=\"0.3f\"))\n",
    "print(stds_summary)"
   ]
  },
  {
   "cell_type": "code",
   "execution_count": 107,
   "metadata": {},
   "outputs": [
    {
     "ename": "RuntimeError",
     "evalue": "'widget is not a recognised GUI loop or backend name",
     "output_type": "error",
     "traceback": [
      "\u001b[0;31m---------------------------------------------------------------------------\u001b[0m",
      "\u001b[0;31mRuntimeError\u001b[0m                              Traceback (most recent call last)",
      "File \u001b[0;32m~/anaconda3/lib/python3.12/site-packages/matplotlib/backends/registry.py:413\u001b[0m, in \u001b[0;36mBackendRegistry.resolve_gui_or_backend\u001b[0;34m(self, gui_or_backend)\u001b[0m\n\u001b[1;32m    412\u001b[0m \u001b[38;5;28;01mtry\u001b[39;00m:\n\u001b[0;32m--> 413\u001b[0m     \u001b[38;5;28;01mreturn\u001b[39;00m \u001b[38;5;28mself\u001b[39m\u001b[38;5;241m.\u001b[39mresolve_backend(gui_or_backend)\n\u001b[1;32m    414\u001b[0m \u001b[38;5;28;01mexcept\u001b[39;00m \u001b[38;5;167;01mException\u001b[39;00m:  \u001b[38;5;66;03m# KeyError ?\u001b[39;00m\n",
      "File \u001b[0;32m~/anaconda3/lib/python3.12/site-packages/matplotlib/backends/registry.py:375\u001b[0m, in \u001b[0;36mBackendRegistry.resolve_backend\u001b[0;34m(self, backend)\u001b[0m\n\u001b[1;32m    374\u001b[0m \u001b[38;5;28;01mif\u001b[39;00m gui \u001b[38;5;129;01mis\u001b[39;00m \u001b[38;5;28;01mNone\u001b[39;00m:\n\u001b[0;32m--> 375\u001b[0m     \u001b[38;5;28;01mraise\u001b[39;00m \u001b[38;5;167;01mRuntimeError\u001b[39;00m(\u001b[38;5;124mf\u001b[39m\u001b[38;5;124m\"\u001b[39m\u001b[38;5;124m'\u001b[39m\u001b[38;5;132;01m{\u001b[39;00mbackend\u001b[38;5;132;01m}\u001b[39;00m\u001b[38;5;124m'\u001b[39m\u001b[38;5;124m is not a recognised backend name\u001b[39m\u001b[38;5;124m\"\u001b[39m)\n\u001b[1;32m    377\u001b[0m \u001b[38;5;28;01mreturn\u001b[39;00m backend, gui \u001b[38;5;28;01mif\u001b[39;00m gui \u001b[38;5;241m!=\u001b[39m \u001b[38;5;124m\"\u001b[39m\u001b[38;5;124mheadless\u001b[39m\u001b[38;5;124m\"\u001b[39m \u001b[38;5;28;01melse\u001b[39;00m \u001b[38;5;28;01mNone\u001b[39;00m\n",
      "\u001b[0;31mRuntimeError\u001b[0m: 'widget' is not a recognised backend name",
      "\nDuring handling of the above exception, another exception occurred:\n",
      "\u001b[0;31mRuntimeError\u001b[0m                              Traceback (most recent call last)",
      "Cell \u001b[0;32mIn[107], line 1\u001b[0m\n\u001b[0;32m----> 1\u001b[0m get_ipython()\u001b[38;5;241m.\u001b[39mrun_line_magic(\u001b[38;5;124m'\u001b[39m\u001b[38;5;124mmatplotlib\u001b[39m\u001b[38;5;124m'\u001b[39m, \u001b[38;5;124m'\u001b[39m\u001b[38;5;124mwidget\u001b[39m\u001b[38;5;124m'\u001b[39m)\n\u001b[1;32m      2\u001b[0m plt\u001b[38;5;241m.\u001b[39mclose(\u001b[38;5;124m\"\u001b[39m\u001b[38;5;124mall\u001b[39m\u001b[38;5;124m\"\u001b[39m)\n\u001b[1;32m      3\u001b[0m \u001b[38;5;66;03m# [v[\"dD_nom\"] for v in stds_summary.values()]\u001b[39;00m\n",
      "File \u001b[0;32m~/anaconda3/lib/python3.12/site-packages/IPython/core/interactiveshell.py:2480\u001b[0m, in \u001b[0;36mInteractiveShell.run_line_magic\u001b[0;34m(self, magic_name, line, _stack_depth)\u001b[0m\n\u001b[1;32m   2478\u001b[0m     kwargs[\u001b[38;5;124m'\u001b[39m\u001b[38;5;124mlocal_ns\u001b[39m\u001b[38;5;124m'\u001b[39m] \u001b[38;5;241m=\u001b[39m \u001b[38;5;28mself\u001b[39m\u001b[38;5;241m.\u001b[39mget_local_scope(stack_depth)\n\u001b[1;32m   2479\u001b[0m \u001b[38;5;28;01mwith\u001b[39;00m \u001b[38;5;28mself\u001b[39m\u001b[38;5;241m.\u001b[39mbuiltin_trap:\n\u001b[0;32m-> 2480\u001b[0m     result \u001b[38;5;241m=\u001b[39m fn(\u001b[38;5;241m*\u001b[39margs, \u001b[38;5;241m*\u001b[39m\u001b[38;5;241m*\u001b[39mkwargs)\n\u001b[1;32m   2482\u001b[0m \u001b[38;5;66;03m# The code below prevents the output from being displayed\u001b[39;00m\n\u001b[1;32m   2483\u001b[0m \u001b[38;5;66;03m# when using magics with decorator @output_can_be_silenced\u001b[39;00m\n\u001b[1;32m   2484\u001b[0m \u001b[38;5;66;03m# when the last Python token in the expression is a ';'.\u001b[39;00m\n\u001b[1;32m   2485\u001b[0m \u001b[38;5;28;01mif\u001b[39;00m \u001b[38;5;28mgetattr\u001b[39m(fn, magic\u001b[38;5;241m.\u001b[39mMAGIC_OUTPUT_CAN_BE_SILENCED, \u001b[38;5;28;01mFalse\u001b[39;00m):\n",
      "File \u001b[0;32m~/anaconda3/lib/python3.12/site-packages/IPython/core/magics/pylab.py:103\u001b[0m, in \u001b[0;36mPylabMagics.matplotlib\u001b[0;34m(self, line)\u001b[0m\n\u001b[1;32m     98\u001b[0m     \u001b[38;5;28mprint\u001b[39m(\n\u001b[1;32m     99\u001b[0m         \u001b[38;5;124m\"\u001b[39m\u001b[38;5;124mAvailable matplotlib backends: \u001b[39m\u001b[38;5;132;01m%s\u001b[39;00m\u001b[38;5;124m\"\u001b[39m\n\u001b[1;32m    100\u001b[0m         \u001b[38;5;241m%\u001b[39m _list_matplotlib_backends_and_gui_loops()\n\u001b[1;32m    101\u001b[0m     )\n\u001b[1;32m    102\u001b[0m \u001b[38;5;28;01melse\u001b[39;00m:\n\u001b[0;32m--> 103\u001b[0m     gui, backend \u001b[38;5;241m=\u001b[39m \u001b[38;5;28mself\u001b[39m\u001b[38;5;241m.\u001b[39mshell\u001b[38;5;241m.\u001b[39menable_matplotlib(args\u001b[38;5;241m.\u001b[39mgui)\n\u001b[1;32m    104\u001b[0m     \u001b[38;5;28mself\u001b[39m\u001b[38;5;241m.\u001b[39m_show_matplotlib_backend(args\u001b[38;5;241m.\u001b[39mgui, backend)\n",
      "File \u001b[0;32m~/anaconda3/lib/python3.12/site-packages/IPython/core/interactiveshell.py:3665\u001b[0m, in \u001b[0;36mInteractiveShell.enable_matplotlib\u001b[0;34m(self, gui)\u001b[0m\n\u001b[1;32m   3662\u001b[0m     \u001b[38;5;28;01mimport\u001b[39;00m \u001b[38;5;21;01mmatplotlib_inline\u001b[39;00m\u001b[38;5;21;01m.\u001b[39;00m\u001b[38;5;21;01mbackend_inline\u001b[39;00m\n\u001b[1;32m   3664\u001b[0m \u001b[38;5;28;01mfrom\u001b[39;00m \u001b[38;5;21;01mIPython\u001b[39;00m\u001b[38;5;21;01m.\u001b[39;00m\u001b[38;5;21;01mcore\u001b[39;00m \u001b[38;5;28;01mimport\u001b[39;00m pylabtools \u001b[38;5;28;01mas\u001b[39;00m pt\n\u001b[0;32m-> 3665\u001b[0m gui, backend \u001b[38;5;241m=\u001b[39m pt\u001b[38;5;241m.\u001b[39mfind_gui_and_backend(gui, \u001b[38;5;28mself\u001b[39m\u001b[38;5;241m.\u001b[39mpylab_gui_select)\n\u001b[1;32m   3667\u001b[0m \u001b[38;5;28;01mif\u001b[39;00m gui \u001b[38;5;241m!=\u001b[39m \u001b[38;5;28;01mNone\u001b[39;00m:\n\u001b[1;32m   3668\u001b[0m     \u001b[38;5;66;03m# If we have our first gui selection, store it\u001b[39;00m\n\u001b[1;32m   3669\u001b[0m     \u001b[38;5;28;01mif\u001b[39;00m \u001b[38;5;28mself\u001b[39m\u001b[38;5;241m.\u001b[39mpylab_gui_select \u001b[38;5;129;01mis\u001b[39;00m \u001b[38;5;28;01mNone\u001b[39;00m:\n",
      "File \u001b[0;32m~/anaconda3/lib/python3.12/site-packages/IPython/core/pylabtools.py:349\u001b[0m, in \u001b[0;36mfind_gui_and_backend\u001b[0;34m(gui, gui_select)\u001b[0m\n\u001b[1;32m    347\u001b[0m \u001b[38;5;28;01melse\u001b[39;00m:\n\u001b[1;32m    348\u001b[0m     gui \u001b[38;5;241m=\u001b[39m _convert_gui_to_matplotlib(gui)\n\u001b[0;32m--> 349\u001b[0m     backend, gui \u001b[38;5;241m=\u001b[39m backend_registry\u001b[38;5;241m.\u001b[39mresolve_gui_or_backend(gui)\n\u001b[1;32m    351\u001b[0m gui \u001b[38;5;241m=\u001b[39m _convert_gui_from_matplotlib(gui)\n\u001b[1;32m    352\u001b[0m \u001b[38;5;28;01mreturn\u001b[39;00m gui, backend\n",
      "File \u001b[0;32m~/anaconda3/lib/python3.12/site-packages/matplotlib/backends/registry.py:415\u001b[0m, in \u001b[0;36mBackendRegistry.resolve_gui_or_backend\u001b[0;34m(self, gui_or_backend)\u001b[0m\n\u001b[1;32m    413\u001b[0m     \u001b[38;5;28;01mreturn\u001b[39;00m \u001b[38;5;28mself\u001b[39m\u001b[38;5;241m.\u001b[39mresolve_backend(gui_or_backend)\n\u001b[1;32m    414\u001b[0m \u001b[38;5;28;01mexcept\u001b[39;00m \u001b[38;5;167;01mException\u001b[39;00m:  \u001b[38;5;66;03m# KeyError ?\u001b[39;00m\n\u001b[0;32m--> 415\u001b[0m     \u001b[38;5;28;01mraise\u001b[39;00m \u001b[38;5;167;01mRuntimeError\u001b[39;00m(\n\u001b[1;32m    416\u001b[0m         \u001b[38;5;124mf\u001b[39m\u001b[38;5;124m\"\u001b[39m\u001b[38;5;124m'\u001b[39m\u001b[38;5;132;01m{\u001b[39;00mgui_or_backend\u001b[38;5;132;01m}\u001b[39;00m\u001b[38;5;124m is not a recognised GUI loop or backend name\u001b[39m\u001b[38;5;124m\"\u001b[39m)\n",
      "\u001b[0;31mRuntimeError\u001b[0m: 'widget is not a recognised GUI loop or backend name"
     ]
    }
   ],
   "source": [
    "%matplotlib inline\n",
    "plt.close(\"all\")\n",
    "# [v[\"dD_nom\"] for v in stds_summary.values()]\n",
    "x=[stds_summary[k][\"dD_nom\"] for k in stds_summary.keys()]\n",
    "y=[stds_summary[k][\"diff_dD\"] for k in stds_summary.keys()]\n",
    "x2=[8*stds_summary[k][\"d18_nom\"] for k in stds_summary.keys()]\n",
    "y2=[8*stds_summary[k][\"diff_d18\"] for k in stds_summary.keys()]\n",
    "[k for k in stds_summary.keys()]\n",
    "plt.plot(x, y, \"o\")\n",
    "# plt.plot(x2, y2, \"o\", color = \"b\")\n",
    "plt.show()"
   ]
  },
  {
   "cell_type": "code",
   "execution_count": null,
   "metadata": {},
   "outputs": [],
   "source": []
  }
 ],
 "metadata": {
  "kernelspec": {
   "display_name": "Python 3 (ipykernel)",
   "language": "python",
   "name": "python3"
  },
  "language_info": {
   "codemirror_mode": {
    "name": "ipython",
    "version": 3
   },
   "file_extension": ".py",
   "mimetype": "text/x-python",
   "name": "python",
   "nbconvert_exporter": "python",
   "pygments_lexer": "ipython3",
   "version": "3.12.2"
  }
 },
 "nbformat": 4,
 "nbformat_minor": 4
}
